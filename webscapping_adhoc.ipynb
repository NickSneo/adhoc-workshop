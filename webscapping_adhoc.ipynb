{
  "nbformat": 4,
  "nbformat_minor": 0,
  "metadata": {
    "colab": {
      "name": "webscapping-adhoc.ipynb",
      "provenance": [],
      "authorship_tag": "ABX9TyMBqaShJWaBpKGOkt/9WQBL",
      "include_colab_link": true
    },
    "kernelspec": {
      "name": "python3",
      "display_name": "Python 3"
    }
  },
  "cells": [
    {
      "cell_type": "markdown",
      "metadata": {
        "id": "view-in-github",
        "colab_type": "text"
      },
      "source": [
        "<a href=\"https://colab.research.google.com/github/NickSneo/adhoc-workshop/blob/master/webscapping_adhoc.ipynb\" target=\"_parent\"><img src=\"https://colab.research.google.com/assets/colab-badge.svg\" alt=\"Open In Colab\"/></a>"
      ]
    },
    {
      "cell_type": "code",
      "metadata": {
        "id": "re9Q0wFUYVzt",
        "colab_type": "code",
        "colab": {}
      },
      "source": [
        "from urllib import request\n",
        "from bs4 import BeautifulSoup\n",
        "import time"
      ],
      "execution_count": 0,
      "outputs": []
    },
    {
      "cell_type": "code",
      "metadata": {
        "id": "51DnIYRYZlCj",
        "colab_type": "code",
        "colab": {}
      },
      "source": [
        "#pointing to url\n",
        "url = 'https://en.wikipedia.org/wiki/Machine_learning'\n",
        "htmldata=request.urlopen(url)\n",
        "\n",
        "#htmldata.read()  #it will download data in html fromat\n",
        "soupdata = BeautifulSoup(htmldata,'html5lib')\n",
        "\n",
        "# html data , html parser - collection of html tags that can scrape data from particular tag like h1,a,p\n",
        "# now selecting a particular tag for data scrape\n",
        "\n",
        "atagdata = soupdata.findAll('p')\n",
        "\n",
        "#now converting data into string format from html format\n",
        "mydata=\"\"\n",
        "\n",
        "for i in atagdata:\n",
        "  mydata += i.text\n",
        "\n",
        "print(mydata)\n"
      ],
      "execution_count": 0,
      "outputs": []
    },
    {
      "cell_type": "code",
      "metadata": {
        "id": "qbIcQBOZc2Vs",
        "colab_type": "code",
        "colab": {}
      },
      "source": [
        ""
      ],
      "execution_count": 0,
      "outputs": []
    }
  ]
}